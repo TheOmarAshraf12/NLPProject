{
  "cells": [
    {
      "cell_type": "code",
      "execution_count": 4,
      "id": "1cc68e96",
      "metadata": {
        "id": "1cc68e96"
      },
      "outputs": [],
      "source": [
        "import tensorflow as tf\n",
        "import string\n",
        "import requests\n",
        "import pandas as pd"
      ]
    },
    {
      "cell_type": "code",
      "execution_count": 2,
      "id": "cb5f7499",
      "metadata": {
        "id": "cb5f7499"
      },
      "outputs": [],
      "source": [
        "response = requests.get('https://raw.githubusercontent.com/laxmimerit/poetry-data/master/adele.txt')"
      ]
    },
    {
      "cell_type": "code",
      "source": [
        "filename = '/content/dataset.txt'\n",
        "\n",
        "with open(filename, 'r') as file:\n",
        "    response_text = file.read()\n",
        "\n",
        "response = type('Response', (), {'text': response_text})"
      ],
      "metadata": {
        "id": "fXpvIFKBTqfR"
      },
      "id": "fXpvIFKBTqfR",
      "execution_count": 5,
      "outputs": []
    },
    {
      "cell_type": "code",
      "execution_count": null,
      "id": "2a5b0134",
      "metadata": {
        "id": "2a5b0134"
      },
      "outputs": [],
      "source": [
        "# response"
      ]
    },
    {
      "cell_type": "code",
      "execution_count": null,
      "id": "99d893cc",
      "metadata": {
        "id": "99d893cc"
      },
      "outputs": [],
      "source": [
        "# response.text"
      ]
    },
    {
      "cell_type": "code",
      "execution_count": 6,
      "id": "5e7b345c",
      "metadata": {
        "colab": {
          "base_uri": "https://localhost:8080/"
        },
        "id": "5e7b345c",
        "outputId": "d3702382-7fcf-46dd-8b45-c771b147b7ee"
      },
      "outputs": [
        {
          "output_type": "stream",
          "name": "stdout",
          "text": [
            "['lyrics', '\"puedes escuchar fernando?  ', 'me recuerda tiempo atras  ', 'estrellas y una noche alla  ', 'en la lumbre azul fernando  ', 'tarareabas tu cancion  ', 'con ese suave guitarrear  ', 'yo podia escuchar  ', 'esos tambores con un sordo redoblar  ', '  ']\n"
          ]
        }
      ],
      "source": [
        "data=response.text.splitlines()\n",
        "print(data[:10]) # 10 sample"
      ]
    },
    {
      "cell_type": "code",
      "execution_count": 7,
      "id": "74499609",
      "metadata": {
        "colab": {
          "base_uri": "https://localhost:8080/"
        },
        "id": "74499609",
        "outputId": "43c63e7c-57ee-4079-8217-7b52ff788f4f"
      },
      "outputs": [
        {
          "output_type": "execute_result",
          "data": {
            "text/plain": [
              "37854"
            ]
          },
          "metadata": {},
          "execution_count": 7
        }
      ],
      "source": [
        "len(data)\n",
        "#there is 2400 lines in this poetry"
      ]
    },
    {
      "cell_type": "code",
      "execution_count": 8,
      "id": "a16e4751",
      "metadata": {
        "colab": {
          "base_uri": "https://localhost:8080/"
        },
        "id": "a16e4751",
        "outputId": "3370e589-7b97-4f97-f4ca-583d1b4bbc4b"
      },
      "outputs": [
        {
          "output_type": "execute_result",
          "data": {
            "text/plain": [
              "956627"
            ]
          },
          "metadata": {},
          "execution_count": 8
        }
      ],
      "source": [
        "# Total word number is:\n",
        "len(\" \".join(data))"
      ]
    },
    {
      "cell_type": "code",
      "execution_count": 9,
      "id": "f3e7cb42",
      "metadata": {
        "id": "f3e7cb42"
      },
      "outputs": [],
      "source": [
        "import numpy as np\n",
        "from tensorflow.keras.preprocessing.text import Tokenizer\n",
        "from tensorflow.keras.utils import to_categorical\n",
        "from tensorflow.keras.models import Sequential\n",
        "from tensorflow.keras.layers import Dense, LSTM, Embedding, Dropout, Conv1D, MaxPooling1D\n",
        "from tensorflow.keras.preprocessing.sequence import pad_sequences\n"
      ]
    },
    {
      "cell_type": "markdown",
      "id": "911137dd",
      "metadata": {
        "id": "911137dd"
      },
      "source": [
        "#### LSTM model and train test preparation"
      ]
    },
    {
      "cell_type": "code",
      "execution_count": 10,
      "id": "b1babd07",
      "metadata": {
        "id": "b1babd07"
      },
      "outputs": [],
      "source": [
        "tokenizer=Tokenizer()\n",
        "tokenizer.fit_on_texts(data) #it's going to fit on the data in the forms of lines."
      ]
    },
    {
      "cell_type": "code",
      "execution_count": 11,
      "id": "2e15ce1a",
      "metadata": {
        "id": "2e15ce1a"
      },
      "outputs": [],
      "source": [
        "# help(tokenizer)"
      ]
    },
    {
      "cell_type": "code",
      "execution_count": 12,
      "id": "de90b86d",
      "metadata": {
        "colab": {
          "base_uri": "https://localhost:8080/"
        },
        "id": "de90b86d",
        "outputId": "439fced7-89ef-450c-f950-2153930fe1ce"
      },
      "outputs": [
        {
          "output_type": "execute_result",
          "data": {
            "text/plain": [
              "[[2662],\n",
              " [6563, 4622, 1000],\n",
              " [10, 6564, 6565, 3010],\n",
              " [6566, 600, 3011, 1519, 4623],\n",
              " [1037, 57, 6567, 6568, 1000],\n",
              " [6569, 444, 4624],\n",
              " [1330, 6570, 6571, 6572],\n",
              " [430, 6573, 4622],\n",
              " [6574, 6575, 1330, 550, 6576, 6577],\n",
              " []]"
            ]
          },
          "metadata": {},
          "execution_count": 12
        }
      ],
      "source": [
        "encoded_text=tokenizer.texts_to_sequences(data)\n",
        "encoded_text[:10]\n",
        "# These number actually comes from vocabulary\n",
        "# it assigns number to each words"
      ]
    },
    {
      "cell_type": "code",
      "execution_count": 13,
      "id": "4e8aaec2",
      "metadata": {
        "id": "4e8aaec2"
      },
      "outputs": [],
      "source": [
        "wc=tokenizer.word_counts\n",
        "# word frequency"
      ]
    },
    {
      "cell_type": "code",
      "execution_count": 14,
      "id": "1609d8e4",
      "metadata": {
        "id": "1609d8e4"
      },
      "outputs": [],
      "source": [
        "wi=tokenizer.word_index"
      ]
    },
    {
      "cell_type": "code",
      "execution_count": 15,
      "id": "63af34c1",
      "metadata": {
        "colab": {
          "base_uri": "https://localhost:8080/"
        },
        "id": "63af34c1",
        "outputId": "7ea7f2ae-b78d-4105-c515-a6cc0189a765"
      },
      "outputs": [
        {
          "output_type": "stream",
          "name": "stdout",
          "text": [
            "Number of unique words and total vocab size: 11915\n"
          ]
        }
      ],
      "source": [
        "print(f\"Number of unique words and total vocab size: {len(tokenizer.word_counts)+1}\")\n",
        "vocab_size=len(tokenizer.word_counts)+1 # always adding plus one for tensorflow"
      ]
    },
    {
      "cell_type": "code",
      "execution_count": 16,
      "id": "d9035af5",
      "metadata": {
        "id": "d9035af5"
      },
      "outputs": [],
      "source": [
        "x=[\"play this song\"]"
      ]
    },
    {
      "cell_type": "code",
      "execution_count": 17,
      "id": "a9efe9a6",
      "metadata": {
        "colab": {
          "base_uri": "https://localhost:8080/"
        },
        "id": "a9efe9a6",
        "outputId": "b61020fc-d3a5-4b43-d2fb-0ba3c6e644bd"
      },
      "outputs": [
        {
          "output_type": "execute_result",
          "data": {
            "text/plain": [
              "[[319, 28, 138]]"
            ]
          },
          "metadata": {},
          "execution_count": 17
        }
      ],
      "source": [
        "tokenizer.texts_to_sequences(x)"
      ]
    },
    {
      "cell_type": "markdown",
      "id": "33262d23",
      "metadata": {
        "id": "33262d23"
      },
      "source": [
        "### Prepare data for training"
      ]
    },
    {
      "cell_type": "code",
      "execution_count": 18,
      "id": "022b5d17",
      "metadata": {
        "colab": {
          "base_uri": "https://localhost:8080/"
        },
        "id": "022b5d17",
        "outputId": "356cdee3-93be-4378-800b-edc2a6e2920b"
      },
      "outputs": [
        {
          "output_type": "execute_result",
          "data": {
            "text/plain": [
              "[[2662],\n",
              " [6563, 4622, 1000],\n",
              " [10, 6564, 6565, 3010],\n",
              " [6566, 600, 3011, 1519, 4623],\n",
              " [1037, 57, 6567, 6568, 1000],\n",
              " [6569, 444, 4624],\n",
              " [1330, 6570, 6571, 6572],\n",
              " [430, 6573, 4622],\n",
              " [6574, 6575, 1330, 550, 6576, 6577],\n",
              " []]"
            ]
          },
          "metadata": {},
          "execution_count": 18
        }
      ],
      "source": [
        " encoded_text[:10] # 10 sample"
      ]
    },
    {
      "cell_type": "code",
      "execution_count": 19,
      "id": "c32ae96f",
      "metadata": {
        "id": "c32ae96f"
      },
      "outputs": [],
      "source": [
        "data_list=[]\n",
        "for i in encoded_text:\n",
        "    if len(i)>1:\n",
        "        for j in range(2,len(i)):\n",
        "            data_list.append(i[:j])\n",
        "#             print(i[:j]) # if you want to check data"
      ]
    },
    {
      "cell_type": "markdown",
      "id": "f592d01d",
      "metadata": {
        "id": "f592d01d"
      },
      "source": [
        "#### Paddding"
      ]
    },
    {
      "cell_type": "code",
      "execution_count": 20,
      "id": "905f8572",
      "metadata": {
        "id": "905f8572"
      },
      "outputs": [],
      "source": [
        "max_length=20\n",
        "#max length of line is 20 token per line in our poetry"
      ]
    },
    {
      "cell_type": "code",
      "execution_count": 21,
      "id": "6a7c4079",
      "metadata": {
        "colab": {
          "base_uri": "https://localhost:8080/"
        },
        "id": "6a7c4079",
        "outputId": "67ce2c99-db17-4d6a-baef-2220c2a04bd6"
      },
      "outputs": [
        {
          "output_type": "execute_result",
          "data": {
            "text/plain": [
              "array([[   0,    0,    0,    0,    0,    0,    0,    0,    0,    0,    0,\n",
              "           0,    0,    0,    0,    0,    0,    0, 6563, 4622],\n",
              "       [   0,    0,    0,    0,    0,    0,    0,    0,    0,    0,    0,\n",
              "           0,    0,    0,    0,    0,    0,    0,   10, 6564],\n",
              "       [   0,    0,    0,    0,    0,    0,    0,    0,    0,    0,    0,\n",
              "           0,    0,    0,    0,    0,    0,   10, 6564, 6565],\n",
              "       [   0,    0,    0,    0,    0,    0,    0,    0,    0,    0,    0,\n",
              "           0,    0,    0,    0,    0,    0,    0, 6566,  600],\n",
              "       [   0,    0,    0,    0,    0,    0,    0,    0,    0,    0,    0,\n",
              "           0,    0,    0,    0,    0,    0, 6566,  600, 3011]],\n",
              "      dtype=int32)"
            ]
          },
          "metadata": {},
          "execution_count": 21
        }
      ],
      "source": [
        "sequences=pad_sequences(data_list,maxlen=max_length,padding=\"pre\") # we set the lenght size equal to 20\n",
        "sequences[:5] # 5 sample"
      ]
    },
    {
      "cell_type": "code",
      "execution_count": 22,
      "id": "e621c3ad",
      "metadata": {
        "colab": {
          "base_uri": "https://localhost:8080/"
        },
        "id": "e621c3ad",
        "outputId": "57b96c44-3557-4bd0-ec9d-94b69b182bb9"
      },
      "outputs": [
        {
          "output_type": "execute_result",
          "data": {
            "text/plain": [
              "(112068, 20)"
            ]
          },
          "metadata": {},
          "execution_count": 22
        }
      ],
      "source": [
        "sequences.shape"
      ]
    },
    {
      "cell_type": "code",
      "execution_count": 23,
      "id": "3f1a3a8b",
      "metadata": {
        "colab": {
          "base_uri": "https://localhost:8080/"
        },
        "id": "3f1a3a8b",
        "outputId": "c324ad5d-4f49-45aa-c889-af95c76db13f"
      },
      "outputs": [
        {
          "output_type": "stream",
          "name": "stdout",
          "text": [
            "X values\n",
            "[[   0    0    0    0    0    0    0    0    0    0    0    0    0    0\n",
            "     0    0    0    0 6563]\n",
            " [   0    0    0    0    0    0    0    0    0    0    0    0    0    0\n",
            "     0    0    0    0   10]\n",
            " [   0    0    0    0    0    0    0    0    0    0    0    0    0    0\n",
            "     0    0    0   10 6564]\n",
            " [   0    0    0    0    0    0    0    0    0    0    0    0    0    0\n",
            "     0    0    0    0 6566]\n",
            " [   0    0    0    0    0    0    0    0    0    0    0    0    0    0\n",
            "     0    0    0 6566  600]]\n",
            "------------------------------\n",
            "X values\n",
            "[4622 6564 6565  600 3011]\n"
          ]
        }
      ],
      "source": [
        "X=sequences[:,:-1]\n",
        "y=sequences[:,-1]\n",
        "print(\"X values\")\n",
        "print(X[:5]) # 5 sample\n",
        "print(\"-\"*30)\n",
        "print(\"X values\")\n",
        "print(y[:5]) # 5 sample"
      ]
    },
    {
      "cell_type": "code",
      "execution_count": 24,
      "id": "e144e0d2",
      "metadata": {
        "colab": {
          "base_uri": "https://localhost:8080/"
        },
        "id": "e144e0d2",
        "outputId": "e359c003-f16a-4208-9c17-a143a621b768"
      },
      "outputs": [
        {
          "output_type": "execute_result",
          "data": {
            "text/plain": [
              "((112068, 19), (112068,))"
            ]
          },
          "metadata": {},
          "execution_count": 24
        }
      ],
      "source": [
        "X.shape,y.shape"
      ]
    },
    {
      "cell_type": "code",
      "execution_count": 25,
      "id": "18894fe2",
      "metadata": {
        "colab": {
          "base_uri": "https://localhost:8080/"
        },
        "id": "18894fe2",
        "outputId": "c94f6661-d410-4b44-e3da-5b8bea043ff7"
      },
      "outputs": [
        {
          "output_type": "stream",
          "name": "stdout",
          "text": [
            "[[0. 0. 0. ... 0. 0. 0.]\n",
            " [0. 0. 0. ... 0. 0. 0.]\n",
            " [0. 0. 0. ... 0. 0. 0.]\n",
            " [0. 0. 0. ... 0. 0. 0.]\n",
            " [0. 0. 0. ... 0. 0. 0.]]\n",
            "Shape of y (112068, 11915)\n"
          ]
        }
      ],
      "source": [
        "y=to_categorical(y,num_classes=vocab_size)\n",
        "#since unique word number is vocab_size, thus there is vocab_size classes\n",
        "print(y[:5]) # 5 sample\n",
        "print(\"Shape of y\",y.shape)"
      ]
    },
    {
      "cell_type": "code",
      "execution_count": 26,
      "id": "bd466740",
      "metadata": {
        "colab": {
          "base_uri": "https://localhost:8080/"
        },
        "id": "bd466740",
        "outputId": "c83b082f-9c72-42b3-ffa9-4fe84848287a"
      },
      "outputs": [
        {
          "output_type": "stream",
          "name": "stdout",
          "text": [
            "Shape of X (112068, 19)\n"
          ]
        },
        {
          "output_type": "execute_result",
          "data": {
            "text/plain": [
              "19"
            ]
          },
          "metadata": {},
          "execution_count": 26
        }
      ],
      "source": [
        "print(\"Shape of X\",X.shape)\n",
        "seq_length=X.shape[1]\n",
        "seq_length"
      ]
    },
    {
      "cell_type": "markdown",
      "id": "66e6e819",
      "metadata": {
        "id": "66e6e819"
      },
      "source": [
        "#### Build Model\n",
        "- We will build a simple LSTM model"
      ]
    },
    {
      "cell_type": "code",
      "execution_count": 27,
      "id": "fb22d3a6",
      "metadata": {
        "id": "fb22d3a6"
      },
      "outputs": [],
      "source": [
        "model=Sequential()\n",
        "model.add(Embedding(vocab_size,50,input_length=seq_length))\n",
        "#The first layer is the Embedded layer that uses 50-length vectors\n",
        "#return_sequences=True because we add another LSTM\n",
        "model.add(LSTM(100,return_sequences=True))\n",
        "model.add(LSTM(100))\n",
        "model.add(Dense(100,activation=\"relu\"))\n",
        "model.add(Dense(vocab_size,activation=\"softmax\")) # we use softmax because there is multiclasses"
      ]
    },
    {
      "cell_type": "code",
      "execution_count": 27,
      "id": "0478f894",
      "metadata": {
        "id": "0478f894"
      },
      "outputs": [],
      "source": [
        "# help(Embedding)"
      ]
    },
    {
      "cell_type": "markdown",
      "id": "125714e4",
      "metadata": {
        "id": "125714e4"
      },
      "source": [
        "#### You can use dropout() , You will see that Training will be slightly slower trend in convergence, maybe lower final accuracy"
      ]
    },
    {
      "cell_type": "code",
      "execution_count": 28,
      "id": "95ef4906",
      "metadata": {
        "id": "95ef4906"
      },
      "outputs": [],
      "source": [
        "# model=Sequential()\n",
        "# model.add(Embedding(vocab_size,50,input_length=seq_length))\n",
        "# #The first layer is the Embedded layer that uses 50-length vectors\n",
        "# #return_sequences=True because we add another LSTM\n",
        "# model.add(Dropout(0.2))\n",
        "# model.add(LSTM(100,return_sequences=True))\n",
        "# model.add(Dropout(0.2))\n",
        "# model.add(LSTM(100))\n",
        "# model.add(Dropout(0.2))\n",
        "# model.add(Dense(100,activation=\"relu\"))\n",
        "# model.add(Dense(vocab_size,activation=\"softmax\")) # we use softmax because there is multiclasses"
      ]
    },
    {
      "cell_type": "markdown",
      "id": "4f5c1fc9",
      "metadata": {
        "id": "4f5c1fc9"
      },
      "source": [
        "####  Dropout can be applied to the input and recurrent connections of the memory units with the LSTM precisely and separately.\n",
        "#### LSTM-specific dropout may have more pronounced effect on the convergence of the network than the layer-wise dropout."
      ]
    },
    {
      "cell_type": "code",
      "execution_count": 29,
      "id": "3c095832",
      "metadata": {
        "id": "3c095832"
      },
      "outputs": [],
      "source": [
        "# model=Sequential()\n",
        "# model.add(Embedding(vocab_size,50,input_length=seq_length))\n",
        "# #The first layer is the Embedded layer that uses 50-length vectors\n",
        "# #return_sequences=True because we add another LSTM\n",
        "# model.add(LSTM(100,return_sequences=True,dropout=0.2,recurrent_dropout=0.2))\n",
        "# model.add(LSTM(100,dropout=0.2,recurrent_dropout=0.2))\n",
        "# model.add(Dense(100,activation=\"relu\"))\n",
        "# model.add(Dense(vocab_size,activation=\"softmax\")) # we use softmax because there is multiclasses"
      ]
    },
    {
      "cell_type": "markdown",
      "id": "a6ce2a8b",
      "metadata": {
        "id": "a6ce2a8b"
      },
      "source": [
        "#### LSTM and CNN can be used together"
      ]
    },
    {
      "cell_type": "code",
      "execution_count": 30,
      "id": "fead4a76",
      "metadata": {
        "id": "fead4a76"
      },
      "outputs": [],
      "source": [
        "# model=Sequential()\n",
        "# model.add(Embedding(vocab_size,50,input_length=seq_length))\n",
        "# #The first layer is the Embedded layer that uses 50-length vectors\n",
        "# #return_sequences=True because we add another LSTM\n",
        "# model.add(Conv1D(filters=32,kernel_size=3, padding=\"same\",activation=\"relu\"))\n",
        "# model.add(MaxPooling1D(pool_size=2))\n",
        "# model.add(LSTM(100,return_sequences=True))\n",
        "# model.add(LSTM(100))\n",
        "# model.add(Dense(100,activation=\"relu\"))\n",
        "# model.add(Dense(vocab_size,activation=\"softmax\")) # we use softmax because there is multiclasses"
      ]
    },
    {
      "cell_type": "code",
      "execution_count": 31,
      "id": "5d6f5963",
      "metadata": {
        "colab": {
          "base_uri": "https://localhost:8080/"
        },
        "id": "5d6f5963",
        "outputId": "b1929c1c-eb86-42e6-e9e2-4d4cc3a841d4"
      },
      "outputs": [
        {
          "output_type": "stream",
          "name": "stdout",
          "text": [
            "Model: \"sequential\"\n",
            "_________________________________________________________________\n",
            " Layer (type)                Output Shape              Param #   \n",
            "=================================================================\n",
            " embedding (Embedding)       (None, 19, 50)            595750    \n",
            "                                                                 \n",
            " lstm (LSTM)                 (None, 19, 100)           60400     \n",
            "                                                                 \n",
            " lstm_1 (LSTM)               (None, 100)               80400     \n",
            "                                                                 \n",
            " dense (Dense)               (None, 100)               10100     \n",
            "                                                                 \n",
            " dense_1 (Dense)             (None, 11915)             1203415   \n",
            "                                                                 \n",
            "=================================================================\n",
            "Total params: 1950065 (7.44 MB)\n",
            "Trainable params: 1950065 (7.44 MB)\n",
            "Non-trainable params: 0 (0.00 Byte)\n",
            "_________________________________________________________________\n"
          ]
        }
      ],
      "source": [
        "model.summary()"
      ]
    },
    {
      "cell_type": "code",
      "execution_count": 32,
      "id": "62c42ef3",
      "metadata": {
        "id": "62c42ef3"
      },
      "outputs": [],
      "source": [
        "model.compile(loss=\"categorical_crossentropy\",optimizer=\"adam\",metrics=[\"accuracy\"])"
      ]
    },
    {
      "cell_type": "code",
      "execution_count": 33,
      "id": "f06cbeaf",
      "metadata": {
        "colab": {
          "base_uri": "https://localhost:8080/"
        },
        "id": "f06cbeaf",
        "outputId": "c6ddf00d-ce50-44fc-f78f-d8df0f5906f0"
      },
      "outputs": [
        {
          "output_type": "stream",
          "name": "stdout",
          "text": [
            "Epoch 1/15\n",
            "3503/3503 [==============================] - 154s 43ms/step - loss: 6.3181 - accuracy: 0.0754\n",
            "Epoch 2/15\n",
            "3503/3503 [==============================] - 156s 44ms/step - loss: 5.7102 - accuracy: 0.1037\n",
            "Epoch 3/15\n",
            "3503/3503 [==============================] - 155s 44ms/step - loss: 5.3516 - accuracy: 0.1306\n",
            "Epoch 4/15\n",
            "3503/3503 [==============================] - 157s 45ms/step - loss: 5.0679 - accuracy: 0.1522\n",
            "Epoch 5/15\n",
            "3503/3503 [==============================] - 160s 46ms/step - loss: 4.8254 - accuracy: 0.1697\n",
            "Epoch 6/15\n",
            "3503/3503 [==============================] - 157s 45ms/step - loss: 4.6161 - accuracy: 0.1841\n",
            "Epoch 7/15\n",
            "3503/3503 [==============================] - 158s 45ms/step - loss: 4.4340 - accuracy: 0.1982\n",
            "Epoch 8/15\n",
            "3503/3503 [==============================] - 158s 45ms/step - loss: 4.2644 - accuracy: 0.2139\n",
            "Epoch 9/15\n",
            "3503/3503 [==============================] - 169s 48ms/step - loss: 4.1122 - accuracy: 0.2276\n",
            "Epoch 10/15\n",
            "3503/3503 [==============================] - 158s 45ms/step - loss: 3.9726 - accuracy: 0.2416\n",
            "Epoch 11/15\n",
            "3503/3503 [==============================] - 158s 45ms/step - loss: 3.8460 - accuracy: 0.2560\n",
            "Epoch 12/15\n",
            "3503/3503 [==============================] - 156s 45ms/step - loss: 3.7260 - accuracy: 0.2702\n",
            "Epoch 13/15\n",
            "3503/3503 [==============================] - 152s 43ms/step - loss: 3.6128 - accuracy: 0.2833\n",
            "Epoch 14/15\n",
            "3503/3503 [==============================] - 149s 43ms/step - loss: 3.5075 - accuracy: 0.2971\n",
            "Epoch 15/15\n",
            "3503/3503 [==============================] - 150s 43ms/step - loss: 3.4101 - accuracy: 0.3100\n"
          ]
        },
        {
          "output_type": "execute_result",
          "data": {
            "text/plain": [
              "<keras.src.callbacks.History at 0x7ab8a1f52140>"
            ]
          },
          "metadata": {},
          "execution_count": 33
        }
      ],
      "source": [
        "model.fit(X,y,batch_size=32,epochs=15)"
      ]
    },
    {
      "cell_type": "markdown",
      "id": "66e41f61",
      "metadata": {
        "id": "66e41f61"
      },
      "source": [
        "### Text Generation"
      ]
    },
    {
      "cell_type": "code",
      "execution_count": 34,
      "id": "56f2d4f4",
      "metadata": {
        "id": "56f2d4f4"
      },
      "outputs": [],
      "source": [
        "text_lenght= 15 # 15 words per line\n",
        "\n",
        "def generate_text(input_text, no_lines):\n",
        "    general_text=[]\n",
        "    for i in range(no_lines):\n",
        "        text=[]\n",
        "        for _ in range(text_lenght):\n",
        "            encoded=tokenizer.texts_to_sequences([input_text])\n",
        "            encoded=pad_sequences(encoded,maxlen=seq_length,padding=\"pre\")\n",
        "            y_pred=np.argmax(model.predict(encoded),axis=-1) # it will generate a word index, loop up into dictionary containing word index\n",
        "\n",
        "            predicted_word=\"\"\n",
        "            for word,index in tokenizer.word_index.items():\n",
        "                if index==y_pred:\n",
        "                    predicted_word=word\n",
        "                    break\n",
        "\n",
        "            input_text=input_text +' '+ predicted_word\n",
        "            text.append(predicted_word)\n",
        "\n",
        "        input_text=text[-1]\n",
        "        text=\" \".join(text) # input text will be the last word of first created line\n",
        "        general_text.append(text)\n",
        "\n",
        "    return general_text"
      ]
    },
    {
      "cell_type": "code",
      "execution_count": 35,
      "id": "5c9bada2",
      "metadata": {
        "colab": {
          "base_uri": "https://localhost:8080/"
        },
        "id": "5c9bada2",
        "outputId": "61e29cc7-7e79-454f-9989-a313230186b2"
      },
      "outputs": [
        {
          "output_type": "stream",
          "name": "stdout",
          "text": [
            "1/1 [==============================] - 1s 651ms/step\n",
            "1/1 [==============================] - 0s 20ms/step\n",
            "1/1 [==============================] - 0s 20ms/step\n",
            "1/1 [==============================] - 0s 23ms/step\n",
            "1/1 [==============================] - 0s 19ms/step\n",
            "1/1 [==============================] - 0s 19ms/step\n",
            "1/1 [==============================] - 0s 23ms/step\n",
            "1/1 [==============================] - 0s 20ms/step\n",
            "1/1 [==============================] - 0s 29ms/step\n",
            "1/1 [==============================] - 0s 20ms/step\n",
            "1/1 [==============================] - 0s 20ms/step\n",
            "1/1 [==============================] - 0s 20ms/step\n",
            "1/1 [==============================] - 0s 21ms/step\n",
            "1/1 [==============================] - 0s 19ms/step\n",
            "1/1 [==============================] - 0s 21ms/step\n",
            "1/1 [==============================] - 0s 24ms/step\n",
            "1/1 [==============================] - 0s 21ms/step\n",
            "1/1 [==============================] - 0s 27ms/step\n",
            "1/1 [==============================] - 0s 25ms/step\n",
            "1/1 [==============================] - 0s 25ms/step\n",
            "1/1 [==============================] - 0s 23ms/step\n",
            "1/1 [==============================] - 0s 22ms/step\n",
            "1/1 [==============================] - 0s 29ms/step\n",
            "1/1 [==============================] - 0s 23ms/step\n",
            "1/1 [==============================] - 0s 28ms/step\n",
            "1/1 [==============================] - 0s 31ms/step\n",
            "1/1 [==============================] - 0s 21ms/step\n",
            "1/1 [==============================] - 0s 25ms/step\n",
            "1/1 [==============================] - 0s 27ms/step\n",
            "1/1 [==============================] - 0s 21ms/step\n",
            "1/1 [==============================] - 0s 30ms/step\n",
            "1/1 [==============================] - 0s 23ms/step\n",
            "1/1 [==============================] - 0s 23ms/step\n",
            "1/1 [==============================] - 0s 24ms/step\n",
            "1/1 [==============================] - 0s 22ms/step\n",
            "1/1 [==============================] - 0s 23ms/step\n",
            "1/1 [==============================] - 0s 22ms/step\n",
            "1/1 [==============================] - 0s 23ms/step\n",
            "1/1 [==============================] - 0s 27ms/step\n",
            "1/1 [==============================] - 0s 25ms/step\n",
            "1/1 [==============================] - 0s 33ms/step\n",
            "1/1 [==============================] - 0s 28ms/step\n",
            "1/1 [==============================] - 0s 21ms/step\n",
            "1/1 [==============================] - 0s 23ms/step\n",
            "1/1 [==============================] - 0s 21ms/step\n",
            "1/1 [==============================] - 0s 24ms/step\n",
            "1/1 [==============================] - 0s 24ms/step\n",
            "1/1 [==============================] - 0s 21ms/step\n",
            "1/1 [==============================] - 0s 22ms/step\n",
            "1/1 [==============================] - 0s 23ms/step\n",
            "1/1 [==============================] - 0s 19ms/step\n",
            "1/1 [==============================] - 0s 26ms/step\n",
            "1/1 [==============================] - 0s 20ms/step\n",
            "1/1 [==============================] - 0s 20ms/step\n",
            "1/1 [==============================] - 0s 22ms/step\n",
            "1/1 [==============================] - 0s 19ms/step\n",
            "1/1 [==============================] - 0s 20ms/step\n",
            "1/1 [==============================] - 0s 28ms/step\n",
            "1/1 [==============================] - 0s 25ms/step\n",
            "1/1 [==============================] - 0s 22ms/step\n",
            "1/1 [==============================] - 0s 23ms/step\n",
            "1/1 [==============================] - 0s 22ms/step\n",
            "1/1 [==============================] - 0s 24ms/step\n",
            "1/1 [==============================] - 0s 25ms/step\n",
            "1/1 [==============================] - 0s 27ms/step\n",
            "1/1 [==============================] - 0s 23ms/step\n",
            "1/1 [==============================] - 0s 26ms/step\n",
            "1/1 [==============================] - 0s 31ms/step\n",
            "1/1 [==============================] - 0s 25ms/step\n",
            "1/1 [==============================] - 0s 28ms/step\n",
            "1/1 [==============================] - 0s 29ms/step\n",
            "1/1 [==============================] - 0s 25ms/step\n",
            "1/1 [==============================] - 0s 24ms/step\n",
            "1/1 [==============================] - 0s 27ms/step\n",
            "1/1 [==============================] - 0s 27ms/step\n",
            "1/1 [==============================] - 0s 26ms/step\n",
            "1/1 [==============================] - 0s 24ms/step\n",
            "1/1 [==============================] - 0s 25ms/step\n",
            "1/1 [==============================] - 0s 26ms/step\n",
            "1/1 [==============================] - 0s 23ms/step\n",
            "1/1 [==============================] - 0s 27ms/step\n",
            "1/1 [==============================] - 0s 25ms/step\n",
            "1/1 [==============================] - 0s 25ms/step\n",
            "1/1 [==============================] - 0s 23ms/step\n",
            "1/1 [==============================] - 0s 26ms/step\n",
            "1/1 [==============================] - 0s 44ms/step\n",
            "1/1 [==============================] - 0s 37ms/step\n",
            "1/1 [==============================] - 0s 42ms/step\n",
            "1/1 [==============================] - 0s 35ms/step\n",
            "1/1 [==============================] - 0s 33ms/step\n"
          ]
        },
        {
          "output_type": "execute_result",
          "data": {
            "text/plain": [
              "['than the only pleasure of the highest green end of the dark man open the',\n",
              " 'ants go marching four by a blackened that i can have a dream that i',\n",
              " 'will be a grand in the ride to the sky and i can have been',\n",
              " 'a long like a walk in the sky and dreamless nuh together in a pear',\n",
              " 'finger finger finger friends who are dear to the world and far in the world',\n",
              " 'are flies on the brain in a broken wings and learn to be your arms']"
            ]
          },
          "metadata": {},
          "execution_count": 35
        }
      ],
      "source": [
        "input_text=\"me\"\n",
        "text_produced=generate_text(input_text,6)\n",
        "text_produced"
      ]
    },
    {
      "cell_type": "code",
      "execution_count": 36,
      "id": "28b0d05e",
      "metadata": {
        "colab": {
          "base_uri": "https://localhost:8080/"
        },
        "id": "28b0d05e",
        "outputId": "ed19efbc-43af-4db6-c782-d952f57a62f3"
      },
      "outputs": [
        {
          "output_type": "stream",
          "name": "stdout",
          "text": [
            "1/1 [==============================] - 0s 37ms/step\n",
            "1/1 [==============================] - 0s 45ms/step\n",
            "1/1 [==============================] - 0s 28ms/step\n",
            "1/1 [==============================] - 0s 48ms/step\n",
            "1/1 [==============================] - 0s 40ms/step\n",
            "1/1 [==============================] - 0s 31ms/step\n",
            "1/1 [==============================] - 0s 43ms/step\n",
            "1/1 [==============================] - 0s 37ms/step\n",
            "1/1 [==============================] - 0s 32ms/step\n",
            "1/1 [==============================] - 0s 34ms/step\n",
            "1/1 [==============================] - 0s 37ms/step\n",
            "1/1 [==============================] - 0s 31ms/step\n",
            "1/1 [==============================] - 0s 40ms/step\n",
            "1/1 [==============================] - 0s 34ms/step\n",
            "1/1 [==============================] - 0s 40ms/step\n",
            "1/1 [==============================] - 0s 22ms/step\n",
            "1/1 [==============================] - 0s 21ms/step\n",
            "1/1 [==============================] - 0s 21ms/step\n",
            "1/1 [==============================] - 0s 22ms/step\n",
            "1/1 [==============================] - 0s 21ms/step\n",
            "1/1 [==============================] - 0s 23ms/step\n",
            "1/1 [==============================] - 0s 24ms/step\n",
            "1/1 [==============================] - 0s 20ms/step\n",
            "1/1 [==============================] - 0s 26ms/step\n",
            "1/1 [==============================] - 0s 19ms/step\n",
            "1/1 [==============================] - 0s 20ms/step\n",
            "1/1 [==============================] - 0s 23ms/step\n",
            "1/1 [==============================] - 0s 21ms/step\n",
            "1/1 [==============================] - 0s 23ms/step\n",
            "1/1 [==============================] - 0s 25ms/step\n",
            "1/1 [==============================] - 0s 19ms/step\n",
            "1/1 [==============================] - 0s 21ms/step\n",
            "1/1 [==============================] - 0s 24ms/step\n",
            "1/1 [==============================] - 0s 20ms/step\n",
            "1/1 [==============================] - 0s 22ms/step\n",
            "1/1 [==============================] - 0s 21ms/step\n",
            "1/1 [==============================] - 0s 27ms/step\n",
            "1/1 [==============================] - 0s 23ms/step\n",
            "1/1 [==============================] - 0s 28ms/step\n",
            "1/1 [==============================] - 0s 23ms/step\n",
            "1/1 [==============================] - 0s 20ms/step\n",
            "1/1 [==============================] - 0s 27ms/step\n",
            "1/1 [==============================] - 0s 31ms/step\n",
            "1/1 [==============================] - 0s 21ms/step\n",
            "1/1 [==============================] - 0s 19ms/step\n",
            "1/1 [==============================] - 0s 23ms/step\n",
            "1/1 [==============================] - 0s 21ms/step\n",
            "1/1 [==============================] - 0s 21ms/step\n",
            "1/1 [==============================] - 0s 22ms/step\n",
            "1/1 [==============================] - 0s 24ms/step\n",
            "1/1 [==============================] - 0s 24ms/step\n",
            "1/1 [==============================] - 0s 24ms/step\n",
            "1/1 [==============================] - 0s 23ms/step\n",
            "1/1 [==============================] - 0s 22ms/step\n",
            "1/1 [==============================] - 0s 21ms/step\n",
            "1/1 [==============================] - 0s 21ms/step\n",
            "1/1 [==============================] - 0s 20ms/step\n",
            "1/1 [==============================] - 0s 22ms/step\n",
            "1/1 [==============================] - 0s 21ms/step\n",
            "1/1 [==============================] - 0s 20ms/step\n",
            "1/1 [==============================] - 0s 20ms/step\n",
            "1/1 [==============================] - 0s 19ms/step\n",
            "1/1 [==============================] - 0s 22ms/step\n",
            "1/1 [==============================] - 0s 24ms/step\n",
            "1/1 [==============================] - 0s 22ms/step\n",
            "1/1 [==============================] - 0s 20ms/step\n",
            "1/1 [==============================] - 0s 24ms/step\n",
            "1/1 [==============================] - 0s 22ms/step\n",
            "1/1 [==============================] - 0s 23ms/step\n",
            "1/1 [==============================] - 0s 21ms/step\n",
            "1/1 [==============================] - 0s 20ms/step\n",
            "1/1 [==============================] - 0s 19ms/step\n",
            "1/1 [==============================] - 0s 23ms/step\n",
            "1/1 [==============================] - 0s 22ms/step\n",
            "1/1 [==============================] - 0s 20ms/step\n",
            "1/1 [==============================] - 0s 21ms/step\n",
            "1/1 [==============================] - 0s 20ms/step\n",
            "1/1 [==============================] - 0s 20ms/step\n",
            "1/1 [==============================] - 0s 24ms/step\n",
            "1/1 [==============================] - 0s 19ms/step\n",
            "1/1 [==============================] - 0s 19ms/step\n",
            "1/1 [==============================] - 0s 20ms/step\n",
            "1/1 [==============================] - 0s 37ms/step\n",
            "1/1 [==============================] - 0s 21ms/step\n",
            "1/1 [==============================] - 0s 30ms/step\n",
            "1/1 [==============================] - 0s 25ms/step\n",
            "1/1 [==============================] - 0s 28ms/step\n",
            "1/1 [==============================] - 0s 21ms/step\n",
            "1/1 [==============================] - 0s 24ms/step\n",
            "1/1 [==============================] - 0s 26ms/step\n"
          ]
        },
        {
          "output_type": "execute_result",
          "data": {
            "text/plain": [
              "['i want to see you i want to see you i want to see you',\n",
              " 'are the only pleasure of the highest thing to see you stirring in the highest',\n",
              " 'uheh yo tila ba vienen los pajaritos que volverlo a little hih ih hih ih',\n",
              " 'hih ih hih ih yitho omanqoba blah blah blah blah blah blah blah nasasaktan ih',\n",
              " 'hih ih hih ih yitho omanqoba blah blah blah blah blah blah blah nasasaktan ih',\n",
              " 'hih ih hih ih yitho omanqoba blah blah blah blah blah blah blah nasasaktan ih']"
            ]
          },
          "metadata": {},
          "execution_count": 36
        }
      ],
      "source": [
        "input_text=\"i want to see you\"\n",
        "text_produced=generate_text(input_text,6)\n",
        "text_produced"
      ]
    },
    {
      "cell_type": "code",
      "execution_count": 37,
      "id": "1cf2ba28",
      "metadata": {
        "colab": {
          "base_uri": "https://localhost:8080/"
        },
        "id": "1cf2ba28",
        "outputId": "3544f110-6ff3-4acb-80ae-aceffb8d118a"
      },
      "outputs": [
        {
          "output_type": "stream",
          "name": "stdout",
          "text": [
            "1/1 [==============================] - 0s 25ms/step\n",
            "1/1 [==============================] - 0s 23ms/step\n",
            "1/1 [==============================] - 0s 22ms/step\n",
            "1/1 [==============================] - 0s 22ms/step\n",
            "1/1 [==============================] - 0s 21ms/step\n",
            "1/1 [==============================] - 0s 33ms/step\n",
            "1/1 [==============================] - 0s 23ms/step\n",
            "1/1 [==============================] - 0s 19ms/step\n",
            "1/1 [==============================] - 0s 20ms/step\n",
            "1/1 [==============================] - 0s 22ms/step\n",
            "1/1 [==============================] - 0s 21ms/step\n",
            "1/1 [==============================] - 0s 19ms/step\n",
            "1/1 [==============================] - 0s 21ms/step\n",
            "1/1 [==============================] - 0s 19ms/step\n",
            "1/1 [==============================] - 0s 19ms/step\n",
            "1/1 [==============================] - 0s 20ms/step\n",
            "1/1 [==============================] - 0s 20ms/step\n",
            "1/1 [==============================] - 0s 20ms/step\n",
            "1/1 [==============================] - 0s 22ms/step\n",
            "1/1 [==============================] - 0s 20ms/step\n",
            "1/1 [==============================] - 0s 19ms/step\n",
            "1/1 [==============================] - 0s 18ms/step\n",
            "1/1 [==============================] - 0s 19ms/step\n",
            "1/1 [==============================] - 0s 29ms/step\n",
            "1/1 [==============================] - 0s 19ms/step\n",
            "1/1 [==============================] - 0s 21ms/step\n",
            "1/1 [==============================] - 0s 21ms/step\n",
            "1/1 [==============================] - 0s 25ms/step\n",
            "1/1 [==============================] - 0s 29ms/step\n",
            "1/1 [==============================] - 0s 26ms/step\n",
            "1/1 [==============================] - 0s 25ms/step\n",
            "1/1 [==============================] - 0s 25ms/step\n",
            "1/1 [==============================] - 0s 25ms/step\n",
            "1/1 [==============================] - 0s 26ms/step\n",
            "1/1 [==============================] - 0s 21ms/step\n",
            "1/1 [==============================] - 0s 23ms/step\n",
            "1/1 [==============================] - 0s 21ms/step\n",
            "1/1 [==============================] - 0s 22ms/step\n",
            "1/1 [==============================] - 0s 24ms/step\n",
            "1/1 [==============================] - 0s 25ms/step\n",
            "1/1 [==============================] - 0s 24ms/step\n",
            "1/1 [==============================] - 0s 20ms/step\n",
            "1/1 [==============================] - 0s 21ms/step\n",
            "1/1 [==============================] - 0s 24ms/step\n",
            "1/1 [==============================] - 0s 22ms/step\n",
            "1/1 [==============================] - 0s 25ms/step\n",
            "1/1 [==============================] - 0s 23ms/step\n",
            "1/1 [==============================] - 0s 22ms/step\n",
            "1/1 [==============================] - 0s 23ms/step\n",
            "1/1 [==============================] - 0s 24ms/step\n",
            "1/1 [==============================] - 0s 25ms/step\n",
            "1/1 [==============================] - 0s 25ms/step\n",
            "1/1 [==============================] - 0s 24ms/step\n",
            "1/1 [==============================] - 0s 26ms/step\n",
            "1/1 [==============================] - 0s 24ms/step\n",
            "1/1 [==============================] - 0s 30ms/step\n",
            "1/1 [==============================] - 0s 27ms/step\n",
            "1/1 [==============================] - 0s 22ms/step\n",
            "1/1 [==============================] - 0s 22ms/step\n",
            "1/1 [==============================] - 0s 31ms/step\n",
            "1/1 [==============================] - 0s 35ms/step\n",
            "1/1 [==============================] - 0s 42ms/step\n",
            "1/1 [==============================] - 0s 41ms/step\n",
            "1/1 [==============================] - 0s 34ms/step\n",
            "1/1 [==============================] - 0s 37ms/step\n",
            "1/1 [==============================] - 0s 35ms/step\n",
            "1/1 [==============================] - 0s 39ms/step\n",
            "1/1 [==============================] - 0s 34ms/step\n",
            "1/1 [==============================] - 0s 46ms/step\n",
            "1/1 [==============================] - 0s 35ms/step\n",
            "1/1 [==============================] - 0s 35ms/step\n",
            "1/1 [==============================] - 0s 34ms/step\n",
            "1/1 [==============================] - 0s 41ms/step\n",
            "1/1 [==============================] - 0s 46ms/step\n",
            "1/1 [==============================] - 0s 41ms/step\n",
            "1/1 [==============================] - 0s 57ms/step\n",
            "1/1 [==============================] - 0s 51ms/step\n",
            "1/1 [==============================] - 0s 46ms/step\n",
            "1/1 [==============================] - 0s 43ms/step\n",
            "1/1 [==============================] - 0s 28ms/step\n",
            "1/1 [==============================] - 0s 22ms/step\n",
            "1/1 [==============================] - 0s 23ms/step\n",
            "1/1 [==============================] - 0s 25ms/step\n",
            "1/1 [==============================] - 0s 22ms/step\n",
            "1/1 [==============================] - 0s 24ms/step\n",
            "1/1 [==============================] - 0s 24ms/step\n",
            "1/1 [==============================] - 0s 22ms/step\n",
            "1/1 [==============================] - 0s 27ms/step\n",
            "1/1 [==============================] - 0s 28ms/step\n",
            "1/1 [==============================] - 0s 27ms/step\n"
          ]
        },
        {
          "output_type": "execute_result",
          "data": {
            "text/plain": [
              "['i want to see you i want to see you i want to see you',\n",
              " 'are the only pleasure of the highest thing to see you stirring in the highest',\n",
              " 'uheh yo tila ba vienen los pajaritos que volverlo a little hih ih hih ih',\n",
              " 'hih ih hih ih yitho omanqoba blah blah blah blah blah blah blah nasasaktan ih',\n",
              " 'hih ih hih ih yitho omanqoba blah blah blah blah blah blah blah nasasaktan ih',\n",
              " 'hih ih hih ih yitho omanqoba blah blah blah blah blah blah blah nasasaktan ih']"
            ]
          },
          "metadata": {},
          "execution_count": 37
        }
      ],
      "source": [
        "input_text=\"i want to see you\"\n",
        "text_produced=generate_text(input_text,6)\n",
        "text_produced"
      ]
    },
    {
      "cell_type": "code",
      "source": [
        "input_text=\"i have tried in vain\"\n",
        "text_produced=generate_text(input_text,6)\n",
        "text_produced"
      ],
      "metadata": {
        "colab": {
          "base_uri": "https://localhost:8080/"
        },
        "id": "gLZbEN5ETbwE",
        "outputId": "24f4389f-b0ac-4a7f-ee85-81a73fbedd54"
      },
      "id": "gLZbEN5ETbwE",
      "execution_count": 38,
      "outputs": [
        {
          "output_type": "stream",
          "name": "stdout",
          "text": [
            "1/1 [==============================] - 0s 30ms/step\n",
            "1/1 [==============================] - 0s 27ms/step\n",
            "1/1 [==============================] - 0s 28ms/step\n",
            "1/1 [==============================] - 0s 24ms/step\n",
            "1/1 [==============================] - 0s 26ms/step\n",
            "1/1 [==============================] - 0s 29ms/step\n",
            "1/1 [==============================] - 0s 28ms/step\n",
            "1/1 [==============================] - 0s 29ms/step\n",
            "1/1 [==============================] - 0s 25ms/step\n",
            "1/1 [==============================] - 0s 25ms/step\n",
            "1/1 [==============================] - 0s 31ms/step\n",
            "1/1 [==============================] - 0s 30ms/step\n",
            "1/1 [==============================] - 0s 26ms/step\n",
            "1/1 [==============================] - 0s 26ms/step\n",
            "1/1 [==============================] - 0s 25ms/step\n",
            "1/1 [==============================] - 0s 22ms/step\n",
            "1/1 [==============================] - 0s 31ms/step\n",
            "1/1 [==============================] - 0s 29ms/step\n",
            "1/1 [==============================] - 0s 25ms/step\n",
            "1/1 [==============================] - 0s 26ms/step\n",
            "1/1 [==============================] - 0s 29ms/step\n",
            "1/1 [==============================] - 0s 25ms/step\n",
            "1/1 [==============================] - 0s 25ms/step\n",
            "1/1 [==============================] - 0s 25ms/step\n",
            "1/1 [==============================] - 0s 23ms/step\n",
            "1/1 [==============================] - 0s 24ms/step\n",
            "1/1 [==============================] - 0s 26ms/step\n",
            "1/1 [==============================] - 0s 29ms/step\n",
            "1/1 [==============================] - 0s 25ms/step\n",
            "1/1 [==============================] - 0s 26ms/step\n",
            "1/1 [==============================] - 0s 23ms/step\n",
            "1/1 [==============================] - 0s 34ms/step\n",
            "1/1 [==============================] - 0s 23ms/step\n",
            "1/1 [==============================] - 0s 24ms/step\n",
            "1/1 [==============================] - 0s 31ms/step\n",
            "1/1 [==============================] - 0s 33ms/step\n",
            "1/1 [==============================] - 0s 25ms/step\n",
            "1/1 [==============================] - 0s 27ms/step\n",
            "1/1 [==============================] - 0s 29ms/step\n",
            "1/1 [==============================] - 0s 21ms/step\n",
            "1/1 [==============================] - 0s 28ms/step\n",
            "1/1 [==============================] - 0s 24ms/step\n",
            "1/1 [==============================] - 0s 23ms/step\n",
            "1/1 [==============================] - 0s 23ms/step\n",
            "1/1 [==============================] - 0s 24ms/step\n",
            "1/1 [==============================] - 0s 22ms/step\n",
            "1/1 [==============================] - 0s 31ms/step\n",
            "1/1 [==============================] - 0s 30ms/step\n",
            "1/1 [==============================] - 0s 23ms/step\n",
            "1/1 [==============================] - 0s 27ms/step\n",
            "1/1 [==============================] - 0s 23ms/step\n",
            "1/1 [==============================] - 0s 27ms/step\n",
            "1/1 [==============================] - 0s 23ms/step\n",
            "1/1 [==============================] - 0s 26ms/step\n",
            "1/1 [==============================] - 0s 23ms/step\n",
            "1/1 [==============================] - 0s 31ms/step\n",
            "1/1 [==============================] - 0s 23ms/step\n",
            "1/1 [==============================] - 0s 24ms/step\n",
            "1/1 [==============================] - 0s 23ms/step\n",
            "1/1 [==============================] - 0s 23ms/step\n",
            "1/1 [==============================] - 0s 32ms/step\n",
            "1/1 [==============================] - 0s 24ms/step\n",
            "1/1 [==============================] - 0s 28ms/step\n",
            "1/1 [==============================] - 0s 24ms/step\n",
            "1/1 [==============================] - 0s 22ms/step\n",
            "1/1 [==============================] - 0s 22ms/step\n",
            "1/1 [==============================] - 0s 29ms/step\n",
            "1/1 [==============================] - 0s 26ms/step\n",
            "1/1 [==============================] - 0s 23ms/step\n",
            "1/1 [==============================] - 0s 26ms/step\n",
            "1/1 [==============================] - 0s 23ms/step\n",
            "1/1 [==============================] - 0s 23ms/step\n",
            "1/1 [==============================] - 0s 30ms/step\n",
            "1/1 [==============================] - 0s 28ms/step\n",
            "1/1 [==============================] - 0s 24ms/step\n",
            "1/1 [==============================] - 0s 27ms/step\n",
            "1/1 [==============================] - 0s 25ms/step\n",
            "1/1 [==============================] - 0s 29ms/step\n",
            "1/1 [==============================] - 0s 27ms/step\n",
            "1/1 [==============================] - 0s 23ms/step\n",
            "1/1 [==============================] - 0s 25ms/step\n",
            "1/1 [==============================] - 0s 25ms/step\n",
            "1/1 [==============================] - 0s 24ms/step\n",
            "1/1 [==============================] - 0s 22ms/step\n",
            "1/1 [==============================] - 0s 26ms/step\n",
            "1/1 [==============================] - 0s 31ms/step\n",
            "1/1 [==============================] - 0s 22ms/step\n",
            "1/1 [==============================] - 0s 25ms/step\n",
            "1/1 [==============================] - 0s 25ms/step\n",
            "1/1 [==============================] - 0s 29ms/step\n"
          ]
        },
        {
          "output_type": "execute_result",
          "data": {
            "text/plain": [
              "['abide with a long and the ants go marching four by a blackened that i',\n",
              " 'will be a grand in the ride to the sky and i can have been',\n",
              " 'a long like a walk in the sky and dreamless nuh together in a pear',\n",
              " 'finger finger finger friends who are dear to the world and far in the world',\n",
              " 'are flies on the brain in a broken wings and learn to be your arms',\n",
              " 'the stairs into the sky the universe will be a reason to be your own']"
            ]
          },
          "metadata": {},
          "execution_count": 38
        }
      ]
    },
    {
      "cell_type": "code",
      "source": [
        "training_loss = [\n",
        "    6.3181, 5.7102, 5.3516, 5.0679, 4.8254,\n",
        "    4.6161, 4.4340, 4.2644, 4.1122, 3.9726,\n",
        "    3.8460, 3.7260, 3.6128, 3.5075, 3.4101\n",
        "]\n",
        "\n",
        "training_accuracy = [\n",
        "    0.0754, 0.1037, 0.1306, 0.1522, 0.1697,\n",
        "    0.1841, 0.1982, 0.2139, 0.2276, 0.2416,\n",
        "    0.2560, 0.2702, 0.2833, 0.2971, 0.3100\n",
        "]\n",
        "\n",
        "epochs = range(1, 16)  # 15 epochs\n"
      ],
      "metadata": {
        "id": "0VfkhmT6BviX"
      },
      "id": "0VfkhmT6BviX",
      "execution_count": 39,
      "outputs": []
    },
    {
      "cell_type": "code",
      "source": [
        "import matplotlib.pyplot as plt\n",
        "\n",
        "# Plot Training Loss\n",
        "plt.figure(figsize=(14, 5))\n",
        "\n",
        "plt.subplot(1, 2, 1)\n",
        "plt.plot(epochs, training_loss, 'bo-', label='Training loss')\n",
        "plt.title('Training Loss Over Epochs')\n",
        "plt.xlabel('Epochs')\n",
        "plt.ylabel('Loss')\n",
        "plt.legend()\n",
        "\n",
        "# Plot Training Accuracy\n",
        "plt.subplot(1, 2, 2)\n",
        "plt.plot(epochs, training_accuracy, 'bo-', label='Training accuracy')\n",
        "plt.title('Training Accuracy Over Epochs')\n",
        "plt.xlabel('Epochs')\n",
        "plt.ylabel('Accuracy')\n",
        "plt.legend()\n",
        "\n",
        "plt.tight_layout()\n",
        "plt.show()\n"
      ],
      "metadata": {
        "id": "bIxg585SBw4L",
        "outputId": "2755bb22-0395-4728-909f-cfd403ce3bdd",
        "colab": {
          "base_uri": "https://localhost:8080/",
          "height": 507
        }
      },
      "id": "bIxg585SBw4L",
      "execution_count": 40,
      "outputs": [
        {
          "output_type": "display_data",
          "data": {
            "text/plain": [
              "<Figure size 1400x500 with 2 Axes>"
            ],
            "image/png": "[encoded data removed]"
          },
          "metadata": {}
        }
      ]
    }
  ],
  "metadata": {
    "kernelspec": {
      "display_name": "Python 3 (ipykernel)",
      "language": "python",
      "name": "python3"
    },
    "language_info": {
      "codemirror_mode": {
        "name": "ipython",
        "version": 3
      },
      "file_extension": ".py",
      "mimetype": "text/x-python",
      "name": "python",
      "nbconvert_exporter": "python",
      "pygments_lexer": "ipython3",
      "version": "3.8.10"
    },
    "colab": {
      "provenance": []
    }
  },
  "nbformat": 4,
  "nbformat_minor": 5
}